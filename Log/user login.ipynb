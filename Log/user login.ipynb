{
 "cells": [
  {
   "cell_type": "code",
   "execution_count": 1,
   "metadata": {},
   "outputs": [],
   "source": [
    "import pandas as pd\n",
    "import numpy as np\n",
    "import seaborn as sns "
   ]
  },
  {
   "cell_type": "code",
   "execution_count": 2,
   "metadata": {},
   "outputs": [],
   "source": [
    "df= pd.read_csv(\"user_login.csv\")"
   ]
  },
  {
   "cell_type": "code",
   "execution_count": 3,
   "metadata": {},
   "outputs": [
    {
     "data": {
      "text/html": [
       "<div>\n",
       "<style scoped>\n",
       "    .dataframe tbody tr th:only-of-type {\n",
       "        vertical-align: middle;\n",
       "    }\n",
       "\n",
       "    .dataframe tbody tr th {\n",
       "        vertical-align: top;\n",
       "    }\n",
       "\n",
       "    .dataframe thead th {\n",
       "        text-align: right;\n",
       "    }\n",
       "</style>\n",
       "<table border=\"1\" class=\"dataframe\">\n",
       "  <thead>\n",
       "    <tr style=\"text-align: right;\">\n",
       "      <th></th>\n",
       "      <th>LOGINKEY</th>\n",
       "      <th>USERID</th>\n",
       "      <th>WORKINGAGENTLOCATIONID</th>\n",
       "      <th>LOGINDATE</th>\n",
       "      <th>REMOTEADDRESS</th>\n",
       "      <th>LOGINSTATUS</th>\n",
       "      <th>OTP</th>\n",
       "      <th>OTPTIME</th>\n",
       "    </tr>\n",
       "  </thead>\n",
       "  <tbody>\n",
       "    <tr>\n",
       "      <td>0</td>\n",
       "      <td>1747979323456910</td>\n",
       "      <td>41400bashak</td>\n",
       "      <td>414259</td>\n",
       "      <td>27/05/17 19:18</td>\n",
       "      <td>172.30.76.14</td>\n",
       "      <td>1</td>\n",
       "      <td>NaN</td>\n",
       "      <td>NaN</td>\n",
       "    </tr>\n",
       "    <tr>\n",
       "      <td>1</td>\n",
       "      <td>1620894543366010</td>\n",
       "      <td>63400vilasp</td>\n",
       "      <td>634016</td>\n",
       "      <td>15/11/16 18:07</td>\n",
       "      <td>10.172.31.3</td>\n",
       "      <td>1073741825</td>\n",
       "      <td>NaN</td>\n",
       "      <td>NaN</td>\n",
       "    </tr>\n",
       "    <tr>\n",
       "      <td>2</td>\n",
       "      <td>1752115678196090</td>\n",
       "      <td>35600libiv</td>\n",
       "      <td>784198</td>\n",
       "      <td>09/09/17 04:58</td>\n",
       "      <td>10.45.1.16</td>\n",
       "      <td>1073741825</td>\n",
       "      <td>NaN</td>\n",
       "      <td>NaN</td>\n",
       "    </tr>\n",
       "    <tr>\n",
       "      <td>3</td>\n",
       "      <td>1880662888527650</td>\n",
       "      <td>632289590683995</td>\n",
       "      <td>784167</td>\n",
       "      <td>21/03/18 19:20</td>\n",
       "      <td>172.30.10.75</td>\n",
       "      <td>1</td>\n",
       "      <td>NaN</td>\n",
       "      <td>NaN</td>\n",
       "    </tr>\n",
       "    <tr>\n",
       "      <td>4</td>\n",
       "      <td>1744617382730770</td>\n",
       "      <td>51200bushrak</td>\n",
       "      <td>512267</td>\n",
       "      <td>24/05/17 09:25</td>\n",
       "      <td>172.30.106.23</td>\n",
       "      <td>1</td>\n",
       "      <td>NaN</td>\n",
       "      <td>NaN</td>\n",
       "    </tr>\n",
       "  </tbody>\n",
       "</table>\n",
       "</div>"
      ],
      "text/plain": [
       "           LOGINKEY           USERID  WORKINGAGENTLOCATIONID       LOGINDATE  \\\n",
       "0  1747979323456910      41400bashak                  414259  27/05/17 19:18   \n",
       "1  1620894543366010      63400vilasp                  634016  15/11/16 18:07   \n",
       "2  1752115678196090       35600libiv                  784198  09/09/17 04:58   \n",
       "3  1880662888527650  632289590683995                  784167  21/03/18 19:20   \n",
       "4  1744617382730770     51200bushrak                  512267  24/05/17 09:25   \n",
       "\n",
       "   REMOTEADDRESS  LOGINSTATUS  OTP OTPTIME  \n",
       "0   172.30.76.14            1  NaN     NaN  \n",
       "1    10.172.31.3   1073741825  NaN     NaN  \n",
       "2     10.45.1.16   1073741825  NaN     NaN  \n",
       "3   172.30.10.75            1  NaN     NaN  \n",
       "4  172.30.106.23            1  NaN     NaN  "
      ]
     },
     "execution_count": 3,
     "metadata": {},
     "output_type": "execute_result"
    }
   ],
   "source": [
    "df.head()"
   ]
  },
  {
   "cell_type": "code",
   "execution_count": 4,
   "metadata": {},
   "outputs": [
    {
     "name": "stdout",
     "output_type": "stream",
     "text": [
      "19999fla1          250\n",
      "35600varsha         11\n",
      "199999super1         9\n",
      "299999fla1           4\n",
      "19999cash2           3\n",
      "                  ... \n",
      "41400hamsat          1\n",
      "365667474246797      1\n",
      "63400nihalm          1\n",
      "784000sanjay         1\n",
      "78400afsalm          1\n",
      "Name: USERID, Length: 3077, dtype: int64\n"
     ]
    }
   ],
   "source": [
    "print(df['USERID'].value_counts())"
   ]
  },
  {
   "cell_type": "code",
   "execution_count": 5,
   "metadata": {},
   "outputs": [],
   "source": [
    "ld = df['WORKINGAGENTLOCATIONID'].value_counts().to_frame()"
   ]
  },
  {
   "cell_type": "code",
   "execution_count": 6,
   "metadata": {},
   "outputs": [
    {
     "name": "stdout",
     "output_type": "stream",
     "text": [
      "296\n"
     ]
    }
   ],
   "source": [
    "print(ld.iloc[0][0])  # Count of the highest WorkingAgent Location ID"
   ]
  },
  {
   "cell_type": "code",
   "execution_count": 7,
   "metadata": {},
   "outputs": [
    {
     "name": "stdout",
     "output_type": "stream",
     "text": [
      "        WORKINGAGENTLOCATIONID\n",
      "300001                     296\n"
     ]
    }
   ],
   "source": [
    "print(ld.head(1))  # 300001 is the highest working agent location id "
   ]
  },
  {
   "cell_type": "code",
   "execution_count": 8,
   "metadata": {},
   "outputs": [
    {
     "name": "stdout",
     "output_type": "stream",
     "text": [
      "172.30.10.75    551\n",
      "172.30.9.75      90\n",
      "172.30.4.100     69\n",
      "172.30.90.25     31\n",
      "172.30.36.21     30\n",
      "               ... \n",
      "10.45.0.97        1\n",
      "172.30.76.13      1\n",
      "172.30.34.22      1\n",
      "172.30.20.74      1\n",
      "10.175.10.45      1\n",
      "Name: REMOTEADDRESS, Length: 1275, dtype: int64\n"
     ]
    }
   ],
   "source": [
    "print(df['REMOTEADDRESS'].value_counts())"
   ]
  },
  {
   "cell_type": "code",
   "execution_count": 9,
   "metadata": {},
   "outputs": [],
   "source": [
    "del df['OTP']  # Removing OTP Column as it is not adding value "
   ]
  },
  {
   "cell_type": "code",
   "execution_count": 10,
   "metadata": {},
   "outputs": [],
   "source": [
    "del df['OTPTIME'] # Removing OTP Time Column as it is not adding value "
   ]
  },
  {
   "cell_type": "code",
   "execution_count": null,
   "metadata": {},
   "outputs": [],
   "source": []
  }
 ],
 "metadata": {
  "kernelspec": {
   "display_name": "Python 3",
   "language": "python",
   "name": "python3"
  },
  "language_info": {
   "codemirror_mode": {
    "name": "ipython",
    "version": 3
   },
   "file_extension": ".py",
   "mimetype": "text/x-python",
   "name": "python",
   "nbconvert_exporter": "python",
   "pygments_lexer": "ipython3",
   "version": "3.7.4"
  }
 },
 "nbformat": 4,
 "nbformat_minor": 4
}
